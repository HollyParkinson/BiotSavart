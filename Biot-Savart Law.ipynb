{
 "cells": [
  {
   "cell_type": "code",
   "execution_count": 1,
   "metadata": {},
   "outputs": [
    {
     "data": {
      "text/plain": [
       "'Using the Biot-Savart law to find the magnetic field at a given point, in the presence of a current-carrying coil'"
      ]
     },
     "execution_count": 1,
     "metadata": {},
     "output_type": "execute_result"
    }
   ],
   "source": [
    "\"\"\"Using the Biot-Savart law to find the magnetic field at a given point, in the presence of a current-carrying coil\"\"\""
   ]
  },
  {
   "cell_type": "code",
   "execution_count": 2,
   "metadata": {},
   "outputs": [],
   "source": [
    "#import relevant modules\n",
    "import numpy\n",
    "import matplotlib.pyplot as plt\n",
    "import scipy"
   ]
  },
  {
   "cell_type": "code",
   "execution_count": 3,
   "metadata": {},
   "outputs": [],
   "source": [
    "I = 20 #Current / A\n",
    "mu0 = 4*numpy.pi*1e-7 #Vacuum permeability / H/m\n",
    "k = mu0/(4*numpy.pi) #Constant"
   ]
  },
  {
   "cell_type": "code",
   "execution_count": 4,
   "metadata": {},
   "outputs": [],
   "source": [
    "wire = [(0,0,0),(1,0,0),(1,1,0),(0,1,0)] #vertex coordinates of square coil loop\n",
    "x = 5\n",
    "y = 5\n",
    "z = 0\n",
    "\n",
    "#(can be replaced with other coordinates provided that they are joined by straight lines to make the wire/loop) \n"
   ]
  },
  {
   "cell_type": "code",
   "execution_count": 5,
   "metadata": {},
   "outputs": [
    {
     "name": "stdout",
     "output_type": "stream",
     "text": [
      "[0.00000000e+00 0.00000000e+00 2.09896524e-08]\n",
      "2.0989652448015743e-08\n"
     ]
    }
   ],
   "source": [
    "#function for the vector (Bx, By, Bz) at a given point\n",
    "\n",
    "def Bfield(x,y,z):\n",
    "    for i in range(len(wire)): #decrease range by 1 if doing a line, not a loop\n",
    "        dlx = wire[i][0]-wire[i-1][0] #x-component of wire element vector\n",
    "        dly = wire[i][1]-wire[i-1][1] #y-component \"\"\"\"\"\"\n",
    "        dlz = wire[i][2]-wire[i-1][2] #z-component \"\"\"\"\"\"\n",
    "        dl = [dlx,dly,dlz] \n",
    "        displacement_x = x - (wire[i][0]+dlx) #x-component of displacement vector from given point to wire element\n",
    "        displacement_y = y - (wire[i][1]+dly) #y-component \"\"\"\"\"\"\n",
    "        displacement_z = z - (wire[i][2]+dlz) #z-component \"\"\"\"\"\"\n",
    "        displacementvec = numpy.array([displacement_x, displacement_y, displacement_z])\n",
    "        mag_r = (displacement_x**2 + displacement_y**2 + displacement_z**2)**0.5 #magnitude of displacement vector\n",
    "        a = k*I*numpy.cross(dl, displacementvec) / mag_r**3 #implements Biot-Savart equation to give (Bx, By, Bz)\n",
    "        return a\n",
    "\n",
    "\n",
    "#function for the magnitude of the B-field at a given point\n",
    "\n",
    "def Bfield_Mag(x,y,z):\n",
    "    for i in range(len(wire)):\n",
    "        dlx = wire[i][0]-wire[i-1][0]\n",
    "        dly = wire[i][1]-wire[i-1][1]\n",
    "        dlz = wire[i][2]-wire[i-1][2]\n",
    "        dl = [dlx,dly,dlz]\n",
    "        displacement_x = x - (wire[i][0]+dlx)\n",
    "        displacement_y = y - (wire[i][1]+dly)\n",
    "        displacement_z = z - (wire[i][2]+dlz)\n",
    "        displacementvec = [displacement_x, displacement_y, displacement_z]\n",
    "        mag_r = (displacement_x**2 + displacement_y**2 + displacement_z**2)**0.5\n",
    "        a = k*I*numpy.cross(dl, displacementvec)/mag_r**3 \n",
    "        print(a)\n",
    "        b = (a[0]**2 + a[1]**2 + a[2]**2)**0.5 #finds magnitude of (Bx, By, Bz)\n",
    "        return b\n",
    "\n"
   ]
  },
  {
   "cell_type": "code",
   "execution_count": 6,
   "metadata": {},
   "outputs": [
    {
     "name": "stdout",
     "output_type": "stream",
     "text": [
      "(Bx, By, Bz) = ( 0.0 , 0.0 , 2.0989652448015743e-08 )\n",
      "[0.00000000e+00 0.00000000e+00 2.09896524e-08]\n",
      "|B| = 2.0989652448015743e-08 T\n"
     ]
    }
   ],
   "source": [
    "\"\"\"Function test for single (x,y,z)\"\"\"\n",
    "\n",
    "x = 5\n",
    "y = 5\n",
    "z = 0\n",
    "\n",
    "print(\"(Bx, By, Bz) =\" , \"(\",Bfield(x,y,z)[0], \",\" ,Bfield(x,y,z)[1], \",\" , Bfield(x,y,z)[2], \")\")\n",
    "print(\"|B| =\", Bfield_Mag(x,y,z), \"T\")\n"
   ]
  },
  {
   "cell_type": "code",
   "execution_count": 7,
   "metadata": {},
   "outputs": [],
   "source": [
    "wire = [(0,0,0),(1,0,0),(1,1,0),(0,1,0)]\n",
    "\n",
    "x = numpy.linspace(-5,5,1000) #x-coordinate of given point\n",
    "y = numpy.linspace(-5,5,1000) #y-coordinate \"\"\"\"\"\"\n",
    "z = numpy.linspace(-5,5,1000) #z-coordinate \"\"\"\"\"\"\n",
    "\n"
   ]
  },
  {
   "cell_type": "code",
   "execution_count": 8,
   "metadata": {},
   "outputs": [
    {
     "data": {
      "image/png": "[encoded data removed]",
      "text/plain": [
       "<Figure size 432x288 with 1 Axes>"
      ]
     },
     "metadata": {
      "needs_background": "light"
     },
     "output_type": "display_data"
    },
    {
     "data": {
      "image/png": "[encoded data removed]",
      "text/plain": [
       "<Figure size 432x288 with 1 Axes>"
      ]
     },
     "metadata": {
      "needs_background": "light"
     },
     "output_type": "display_data"
    }
   ],
   "source": [
    "def Bplot(x,y,z):\n",
    "    result = numpy.zeros((len(x),3))\n",
    "    for i in range(len(wire)):\n",
    "        dlx = wire[i][0]-wire[i-1][0]\n",
    "        dly = wire[i][1]-wire[i-1][1]\n",
    "        dlz = wire[i][2]-wire[i-1][2]\n",
    "        dl = [dlx,dly,dlz]\n",
    "        displacement_x = numpy.zeros([len(x)])\n",
    "        displacement_y = numpy.zeros([len(x)])\n",
    "        displacement_z = numpy.zeros([len(x)])\n",
    "        for j in range(len(x)):\n",
    "                displacement_x[j] = x[j] - (wire[i][0]+dlx)\n",
    "                displacement_y[j] = y[j] - (wire[i][1]+dly)\n",
    "                displacement_z[j] = z[j] - (wire[i][2]+dlz)\n",
    "                displacementvec = [displacement_x[j], displacement_y[j], displacement_z[j]]\n",
    "                mag_r = (displacement_x[j]**2 + displacement_y[j]**2 + displacement_z[j]**2)**0.5\n",
    "                a = k*I*numpy.cross(dl, displacementvec)/mag_r**3 #a = B field at one point due to one coil\n",
    "                result[j,0] += a[0]\n",
    "                result[j,1] += a[1]\n",
    "                result[j,2] += a[2]\n",
    "          \n",
    "    return result\n",
    "\n",
    "\n",
    "\"\"\"Graphs of Bx and By at constant z (z = 1)\"\"\"\n",
    "z = numpy.ones(1000)\n",
    "\n",
    "plt.plot(x, Bplot(x,y,z)[:,0], color = 'r')\n",
    "plt.xlabel(\"x\")\n",
    "plt.ylabel(\"Bx\")\n",
    "plt.show()\n",
    "\n",
    "plt.plot(y, Bplot(x,y,z)[:,1])\n",
    "plt.xlabel(\"y\")\n",
    "plt.ylabel(\"By\")\n",
    "plt.show()\n"
   ]
  },
  {
   "cell_type": "code",
   "execution_count": 9,
   "metadata": {},
   "outputs": [],
   "source": [
    "#add another coil (Helmhotlz setup with specific spacing\n",
    "\n",
    "I_1 = 20 #Current / A in coil 1\n",
    "mu0 = 4*numpy.pi*1e-7 #Vacuum permeability / H/m\n",
    "k = mu0/(4*numpy.pi) #Constant\n",
    "wire_1 = [(-1.5,-1.5,-0.81675),(1.5,-1.5,-0.81675),(1.5,1.5,-0.81675),(-1.5,1.5,-0.81675)] #vertex coordinates of square coil 1\n",
    "\n",
    "\n",
    "I_2 = 20 #Current / A in coil 2\n",
    "mu0 = 4*numpy.pi*1e-7 #Vacuum permeability / H/m\n",
    "k = mu0/(4*numpy.pi) #Constant\n",
    "wire_2 = [(-1.5,-1.5,0.81675),(1.5,-1.5,0.81675),(1.5,1.5,0.81675),(-1.5,1.5,0.81675)] #vertex coordinates of square coil 2\n",
    "\n",
    "x = numpy.linspace(-5,5,1000) #x-coordinate of given point\n",
    "y = numpy.linspace(-5,5,1000) #y-coordinate \"\"\"\"\"\"\n",
    "z = numpy.linspace(-5,5,1000) #z-coordinate \"\"\"\"\"\""
   ]
  },
  {
   "cell_type": "code",
   "execution_count": 10,
   "metadata": {},
   "outputs": [],
   "source": [
    "def Bfieldtotal(x,y,z):\n",
    "    \n",
    "    result_tot = numpy.zeros((len(x),3))\n",
    "    \n",
    "    for i in range(len(wire_1)): #decrease range by 1 if doing a line, not a loop\n",
    "        dlx1 = wire_1[i][0]-wire_1[i-1][0] #x-component of wire element vector\n",
    "        dly1 = wire_1[i][1]-wire_1[i-1][1] #y-component \"\"\"\"\"\"\n",
    "        dlz1 = wire_1[i][2]-wire_1[i-1][2] #z-component \"\"\"\"\"\"\n",
    "        dl1 = [dlx1,dly1,dlz1] \n",
    "        displacement_x1 = numpy.zeros([len(x)])\n",
    "        displacement_y1 = numpy.zeros([len(x)])\n",
    "        displacement_z1 = numpy.zeros([len(x)])\n",
    "    \n",
    "        \n",
    "        dlx2 = wire_2[i][0]-wire_2[i-1][0] #x-component of wire element vector\n",
    "        dly2 = wire_2[i][1]-wire_2[i-1][1] #y-component \"\"\"\"\"\"\n",
    "        dlz2 = wire_2[i][2]-wire_2[i-1][2] #z-component \"\"\"\"\"\"\n",
    "        dl2 = [dlx2,dly2,dlz2] \n",
    "        displacement_x2 = numpy.zeros([len(x)])\n",
    "        displacement_y2 = numpy.zeros([len(x)])\n",
    "        displacement_z2 = numpy.zeros([len(x)])\n",
    "        \n",
    "        \n",
    "        for j in range(len(x)):\n",
    "            displacement_x1[j] = x[j] - (wire_1[i][0]+dlx1) #x-component of displacement vector from given point to wire element\n",
    "            displacement_y1[j] = y[j] - (wire_1[i][1]+dly1) #y-component \"\"\"\"\"\"\n",
    "            displacement_z1[j] = z[j] - (wire_1[i][2]+dlz1) #z-component \"\"\"\"\"\"\n",
    "            displacementvec1 = numpy.array([displacement_x1[j], displacement_y1[j], displacement_z1[j]])\n",
    "            mag_r1 = (displacement_x1[j]**2 + displacement_y1[j]**2 + displacement_z1[j]**2)**0.5 #magnitude of displacement vector\n",
    "            a1 = k*I_1*numpy.cross(dl1, displacementvec1) / mag_r1**3 #implements Biot-Savart equation to give (Bx, By, Bz)\n",
    "            \n",
    "            \n",
    "            displacement_x2[j] = x[j] - (wire_2[i][0]+dlx2) #x-component of displacement vector from given point to wire element\n",
    "            displacement_y2[j] = y[j] - (wire_2[i][1]+dly2) #y-component \"\"\"\"\"\"\n",
    "            displacement_z2[j] = z[j] - (wire_2[i][2]+dlz2) #z-component \"\"\"\"\"\"\n",
    "            displacementvec2 = numpy.array([displacement_x2[j], displacement_y2[j], displacement_z2[j]])\n",
    "            mag_r2 = (displacement_x2[j]**2 + displacement_y2[j]**2 + displacement_z2[j]**2)**0.5 #magnitude of displacement vector\n",
    "            a2 = k*I_2*numpy.cross(dl2, displacementvec2) / mag_r2**3 #implements Biot-Savart equation to give (Bx, By, Bz)\n",
    "           \n",
    "            a_tot = a1+a2\n",
    "            result_tot[j,0] += a_tot[0]\n",
    "            result_tot[j,1] += a_tot[1]\n",
    "            result_tot[j,2] += a_tot[2]\n",
    "\n",
    "    return result_tot\n",
    "    \n"
   ]
  },
  {
   "cell_type": "code",
   "execution_count": 1,
   "metadata": {},
   "outputs": [
    {
     "ename": "NameError",
     "evalue": "name 'numpy' is not defined",
     "output_type": "error",
     "traceback": [
      "\u001b[0;31m---------------------------------------------------------------------------\u001b[0m",
      "\u001b[0;31mNameError\u001b[0m                                 Traceback (most recent call last)",
      "\u001b[0;32m<ipython-input-1-5b73dcd7bce7>\u001b[0m in \u001b[0;36m<module>\u001b[0;34m\u001b[0m\n\u001b[1;32m      1\u001b[0m \u001b[0;31m#Square Helmholtz pair\u001b[0m\u001b[0;34m\u001b[0m\u001b[0;34m\u001b[0m\u001b[0;34m\u001b[0m\u001b[0m\n\u001b[1;32m      2\u001b[0m \u001b[0;34m\u001b[0m\u001b[0m\n\u001b[0;32m----> 3\u001b[0;31m \u001b[0mz\u001b[0m \u001b[0;34m=\u001b[0m \u001b[0mnumpy\u001b[0m\u001b[0;34m.\u001b[0m\u001b[0mlinspace\u001b[0m\u001b[0;34m(\u001b[0m\u001b[0;34m-\u001b[0m\u001b[0;36m5\u001b[0m\u001b[0;34m,\u001b[0m\u001b[0;36m5\u001b[0m\u001b[0;34m,\u001b[0m\u001b[0;36m1000\u001b[0m\u001b[0;34m)\u001b[0m\u001b[0;34m\u001b[0m\u001b[0;34m\u001b[0m\u001b[0m\n\u001b[0m\u001b[1;32m      4\u001b[0m \u001b[0;34m\u001b[0m\u001b[0m\n\u001b[1;32m      5\u001b[0m \u001b[0;32mdef\u001b[0m \u001b[0mB\u001b[0m\u001b[0;34m(\u001b[0m\u001b[0mz\u001b[0m\u001b[0;34m)\u001b[0m\u001b[0;34m:\u001b[0m\u001b[0;34m\u001b[0m\u001b[0;34m\u001b[0m\u001b[0m\n",
      "\u001b[0;31mNameError\u001b[0m: name 'numpy' is not defined"
     ]
    }
   ],
   "source": [
    "#Square Helmholtz pair; separation defined by Helmholtz condition\n",
    "\n",
    "z = numpy.linspace(-5,5,1000)\n",
    "\n",
    "def B(z):\n",
    "    a = 1.5 #1/2 side length of square\n",
    "    N = 1 #number of turns on coils\n",
    "    h = 1.089*a #separation distance (z-direction)\n",
    "    firstterm = 1/((a**2 + (z - h/2)**2) * numpy.sqrt(2*(a**2) + (z - h/2)**2))\n",
    "    secondterm = 1/((a**2 + (z + h/2)**2) * numpy.sqrt(2*(a**2) + (z + h/2)**2))\n",
    "    B = (mu0*N*I/4*numpy.pi) * 8 * a**2 * (firstterm + secondterm) \n",
    "    return B\n",
    "\n",
    "plt.plot(z, B(z))\n",
    "plt.xlabel(\"z\")\n",
    "plt.ylabel(\"Bz from equation\") \n",
    "\n"
   ]
  },
  {
   "cell_type": "code",
   "execution_count": null,
   "metadata": {},
   "outputs": [],
   "source": []
  },
  {
   "cell_type": "code",
   "execution_count": null,
   "metadata": {},
   "outputs": [],
   "source": []
  }
 ],
 "metadata": {
  "kernelspec": {
   "display_name": "Python 3",
   "language": "python",
   "name": "python3"
  },
  "language_info": {
   "codemirror_mode": {
    "name": "ipython",
    "version": 3
   },
   "file_extension": ".py",
   "mimetype": "text/x-python",
   "name": "python",
   "nbconvert_exporter": "python",
   "pygments_lexer": "ipython3",
   "version": "3.7.6"
  }
 },
 "nbformat": 4,
 "nbformat_minor": 4
}
